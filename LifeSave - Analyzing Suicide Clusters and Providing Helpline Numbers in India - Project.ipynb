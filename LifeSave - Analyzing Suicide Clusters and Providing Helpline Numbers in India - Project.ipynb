{
 "cells": [
  {
   "cell_type": "code",
   "execution_count": 2,
   "id": "f7959a89-c479-4ecd-9c21-63a2e22b01e7",
   "metadata": {},
   "outputs": [],
   "source": [
    "import pandas as pd"
   ]
  },
  {
   "cell_type": "code",
   "execution_count": 3,
   "id": "adf61ee7-f425-45e9-ae85-fb3a0bcf41ab",
   "metadata": {},
   "outputs": [],
   "source": [
    "file_path = (r\"C:\\Users\\Hp\\Desktop\\LifeSave DataSet (1).csv\")"
   ]
  },
  {
   "cell_type": "code",
   "execution_count": 4,
   "id": "1e3a1a9d-8c9e-40d8-b0c1-55957ba9f6db",
   "metadata": {},
   "outputs": [],
   "source": [
    "data = pd.read_csv(r\"C:\\Users\\Hp\\Desktop\\LifeSave DataSet (1).csv\")"
   ]
  },
  {
   "cell_type": "code",
   "execution_count": 5,
   "id": "4de7d0b7-acfc-4c34-b04f-0cbcab3cb140",
   "metadata": {},
   "outputs": [
    {
     "name": "stdout",
     "output_type": "stream",
     "text": [
      "           State  Year Type_code                                     Type  \\\n",
      "0  A & N Islands  2001    Causes                       Illness (Aids/STD)   \n",
      "1  A & N Islands  2001    Causes  Bankruptcy or Sudden change in Economic   \n",
      "2  A & N Islands  2001    Causes  Cancellation/Non-Settlement of Marriage   \n",
      "3  A & N Islands  2001    Causes        Physical Abuse (Rape/Incest Etc.)   \n",
      "4  A & N Islands  2001    Causes                            Dowry Dispute   \n",
      "\n",
      "   Gender Age_group  Total  \n",
      "0  Female      0-14      0  \n",
      "1  Female      0-14      0  \n",
      "2  Female      0-14      0  \n",
      "3  Female      0-14      0  \n",
      "4  Female      0-14      0  \n"
     ]
    }
   ],
   "source": [
    "print(data.head())"
   ]
  },
  {
   "cell_type": "code",
   "execution_count": 10,
   "id": "dd21730a-3a65-42b5-8b39-2a754efe19f2",
   "metadata": {},
   "outputs": [
    {
     "name": "stdout",
     "output_type": "stream",
     "text": [
      "<class 'pandas.core.frame.DataFrame'>\n",
      "RangeIndex: 237519 entries, 0 to 237518\n",
      "Data columns (total 7 columns):\n",
      " #   Column     Non-Null Count   Dtype \n",
      "---  ------     --------------   ----- \n",
      " 0   State      237519 non-null  object\n",
      " 1   Year       237519 non-null  int64 \n",
      " 2   Type_code  237519 non-null  object\n",
      " 3   Type       237519 non-null  object\n",
      " 4   Gender     237519 non-null  object\n",
      " 5   Age_group  237519 non-null  object\n",
      " 6   Total      237519 non-null  int64 \n",
      "dtypes: int64(2), object(5)\n",
      "memory usage: 12.7+ MB\n",
      "None\n"
     ]
    }
   ],
   "source": [
    "print(data.info())"
   ]
  },
  {
   "cell_type": "code",
   "execution_count": 12,
   "id": "3fe839ee-89ac-47b9-a297-23838bcb3939",
   "metadata": {},
   "outputs": [
    {
     "name": "stdout",
     "output_type": "stream",
     "text": [
      "State        0\n",
      "Year         0\n",
      "Type_code    0\n",
      "Type         0\n",
      "Gender       0\n",
      "Age_group    0\n",
      "Total        0\n",
      "dtype: int64\n"
     ]
    }
   ],
   "source": [
    "print(data.isnull().sum())"
   ]
  },
  {
   "cell_type": "code",
   "execution_count": 10,
   "id": "f76de990-4a70-4560-9d44-51e538e31e72",
   "metadata": {},
   "outputs": [],
   "source": [
    "import matplotlib.pyplot as plt"
   ]
  },
  {
   "cell_type": "code",
   "execution_count": 15,
   "id": "5618b8ec-581c-4baf-af5e-2d086a21e616",
   "metadata": {},
   "outputs": [
    {
     "data": {
      "text/html": [
       "<div>\n",
       "<style scoped>\n",
       "    .dataframe tbody tr th:only-of-type {\n",
       "        vertical-align: middle;\n",
       "    }\n",
       "\n",
       "    .dataframe tbody tr th {\n",
       "        vertical-align: top;\n",
       "    }\n",
       "\n",
       "    .dataframe thead th {\n",
       "        text-align: right;\n",
       "    }\n",
       "</style>\n",
       "<table border=\"1\" class=\"dataframe\">\n",
       "  <thead>\n",
       "    <tr style=\"text-align: right;\">\n",
       "      <th></th>\n",
       "      <th>State</th>\n",
       "      <th>Year</th>\n",
       "      <th>Type_code</th>\n",
       "      <th>Type</th>\n",
       "      <th>Gender</th>\n",
       "      <th>Age_group</th>\n",
       "      <th>Total</th>\n",
       "    </tr>\n",
       "  </thead>\n",
       "  <tbody>\n",
       "    <tr>\n",
       "      <th>0</th>\n",
       "      <td>A &amp; N Islands</td>\n",
       "      <td>2001</td>\n",
       "      <td>Causes</td>\n",
       "      <td>Illness (Aids/STD)</td>\n",
       "      <td>Female</td>\n",
       "      <td>0-14</td>\n",
       "      <td>0</td>\n",
       "    </tr>\n",
       "    <tr>\n",
       "      <th>1</th>\n",
       "      <td>A &amp; N Islands</td>\n",
       "      <td>2001</td>\n",
       "      <td>Causes</td>\n",
       "      <td>Bankruptcy or Sudden change in Economic</td>\n",
       "      <td>Female</td>\n",
       "      <td>0-14</td>\n",
       "      <td>0</td>\n",
       "    </tr>\n",
       "    <tr>\n",
       "      <th>2</th>\n",
       "      <td>A &amp; N Islands</td>\n",
       "      <td>2001</td>\n",
       "      <td>Causes</td>\n",
       "      <td>Cancellation/Non-Settlement of Marriage</td>\n",
       "      <td>Female</td>\n",
       "      <td>0-14</td>\n",
       "      <td>0</td>\n",
       "    </tr>\n",
       "    <tr>\n",
       "      <th>3</th>\n",
       "      <td>A &amp; N Islands</td>\n",
       "      <td>2001</td>\n",
       "      <td>Causes</td>\n",
       "      <td>Physical Abuse (Rape/Incest Etc.)</td>\n",
       "      <td>Female</td>\n",
       "      <td>0-14</td>\n",
       "      <td>0</td>\n",
       "    </tr>\n",
       "    <tr>\n",
       "      <th>4</th>\n",
       "      <td>A &amp; N Islands</td>\n",
       "      <td>2001</td>\n",
       "      <td>Causes</td>\n",
       "      <td>Dowry Dispute</td>\n",
       "      <td>Female</td>\n",
       "      <td>0-14</td>\n",
       "      <td>0</td>\n",
       "    </tr>\n",
       "  </tbody>\n",
       "</table>\n",
       "</div>"
      ],
      "text/plain": [
       "           State  Year Type_code                                     Type  \\\n",
       "0  A & N Islands  2001    Causes                       Illness (Aids/STD)   \n",
       "1  A & N Islands  2001    Causes  Bankruptcy or Sudden change in Economic   \n",
       "2  A & N Islands  2001    Causes  Cancellation/Non-Settlement of Marriage   \n",
       "3  A & N Islands  2001    Causes        Physical Abuse (Rape/Incest Etc.)   \n",
       "4  A & N Islands  2001    Causes                            Dowry Dispute   \n",
       "\n",
       "   Gender Age_group  Total  \n",
       "0  Female      0-14      0  \n",
       "1  Female      0-14      0  \n",
       "2  Female      0-14      0  \n",
       "3  Female      0-14      0  \n",
       "4  Female      0-14      0  "
      ]
     },
     "execution_count": 15,
     "metadata": {},
     "output_type": "execute_result"
    }
   ],
   "source": [
    "data.head()"
   ]
  },
  {
   "cell_type": "code",
   "execution_count": 15,
   "id": "bd756566-2a52-41f5-93cd-76107a69c41b",
   "metadata": {},
   "outputs": [],
   "source": [
    "temporal_data = data.groupby('Year')['Type'].count()"
   ]
  },
  {
   "cell_type": "code",
   "execution_count": 17,
   "id": "6d27b039-9827-4251-a264-ecdf73994a91",
   "metadata": {},
   "outputs": [
    {
     "data": {
      "text/plain": [
       "Year\n",
       "2001    19797\n",
       "2002    19790\n",
       "2003    19786\n",
       "2004    19783\n",
       "2005    19803\n",
       "Name: Type, dtype: int64"
      ]
     },
     "execution_count": 17,
     "metadata": {},
     "output_type": "execute_result"
    }
   ],
   "source": [
    "temporal_data.head() #Number of Suicides over the years "
   ]
  },
  {
   "cell_type": "code",
   "execution_count": 22,
   "id": "743055b1-c5a1-43a6-ac20-22158998bffb",
   "metadata": {},
   "outputs": [
    {
     "data": {
      "text/html": [
       "<div>\n",
       "<style scoped>\n",
       "    .dataframe tbody tr th:only-of-type {\n",
       "        vertical-align: middle;\n",
       "    }\n",
       "\n",
       "    .dataframe tbody tr th {\n",
       "        vertical-align: top;\n",
       "    }\n",
       "\n",
       "    .dataframe thead th {\n",
       "        text-align: right;\n",
       "    }\n",
       "</style>\n",
       "<table border=\"1\" class=\"dataframe\">\n",
       "  <thead>\n",
       "    <tr style=\"text-align: right;\">\n",
       "      <th></th>\n",
       "      <th>State</th>\n",
       "      <th>Year</th>\n",
       "      <th>Type_code</th>\n",
       "      <th>Type</th>\n",
       "      <th>Gender</th>\n",
       "      <th>Age_group</th>\n",
       "      <th>Total</th>\n",
       "    </tr>\n",
       "  </thead>\n",
       "  <tbody>\n",
       "    <tr>\n",
       "      <th>0</th>\n",
       "      <td>A &amp; N Islands</td>\n",
       "      <td>2001</td>\n",
       "      <td>Causes</td>\n",
       "      <td>Illness (Aids/STD)</td>\n",
       "      <td>Female</td>\n",
       "      <td>0-14</td>\n",
       "      <td>0</td>\n",
       "    </tr>\n",
       "    <tr>\n",
       "      <th>1</th>\n",
       "      <td>A &amp; N Islands</td>\n",
       "      <td>2001</td>\n",
       "      <td>Causes</td>\n",
       "      <td>Bankruptcy or Sudden change in Economic</td>\n",
       "      <td>Female</td>\n",
       "      <td>0-14</td>\n",
       "      <td>0</td>\n",
       "    </tr>\n",
       "    <tr>\n",
       "      <th>2</th>\n",
       "      <td>A &amp; N Islands</td>\n",
       "      <td>2001</td>\n",
       "      <td>Causes</td>\n",
       "      <td>Cancellation/Non-Settlement of Marriage</td>\n",
       "      <td>Female</td>\n",
       "      <td>0-14</td>\n",
       "      <td>0</td>\n",
       "    </tr>\n",
       "    <tr>\n",
       "      <th>3</th>\n",
       "      <td>A &amp; N Islands</td>\n",
       "      <td>2001</td>\n",
       "      <td>Causes</td>\n",
       "      <td>Physical Abuse (Rape/Incest Etc.)</td>\n",
       "      <td>Female</td>\n",
       "      <td>0-14</td>\n",
       "      <td>0</td>\n",
       "    </tr>\n",
       "    <tr>\n",
       "      <th>4</th>\n",
       "      <td>A &amp; N Islands</td>\n",
       "      <td>2001</td>\n",
       "      <td>Causes</td>\n",
       "      <td>Dowry Dispute</td>\n",
       "      <td>Female</td>\n",
       "      <td>0-14</td>\n",
       "      <td>0</td>\n",
       "    </tr>\n",
       "  </tbody>\n",
       "</table>\n",
       "</div>"
      ],
      "text/plain": [
       "           State  Year Type_code                                     Type  \\\n",
       "0  A & N Islands  2001    Causes                       Illness (Aids/STD)   \n",
       "1  A & N Islands  2001    Causes  Bankruptcy or Sudden change in Economic   \n",
       "2  A & N Islands  2001    Causes  Cancellation/Non-Settlement of Marriage   \n",
       "3  A & N Islands  2001    Causes        Physical Abuse (Rape/Incest Etc.)   \n",
       "4  A & N Islands  2001    Causes                            Dowry Dispute   \n",
       "\n",
       "   Gender Age_group  Total  \n",
       "0  Female      0-14      0  \n",
       "1  Female      0-14      0  \n",
       "2  Female      0-14      0  \n",
       "3  Female      0-14      0  \n",
       "4  Female      0-14      0  "
      ]
     },
     "execution_count": 22,
     "metadata": {},
     "output_type": "execute_result"
    }
   ],
   "source": [
    "data.head()"
   ]
  },
  {
   "cell_type": "code",
   "execution_count": 12,
   "id": "2791585d-3fb1-438d-962c-1d3490a8a83f",
   "metadata": {},
   "outputs": [],
   "source": [
    "data.columns = data.columns.str.lower()"
   ]
  },
  {
   "cell_type": "code",
   "execution_count": 48,
   "id": "dba70fe0-a104-43a1-aea0-9a8e10b82816",
   "metadata": {},
   "outputs": [
    {
     "data": {
      "image/png": "[encoded data removed]",
      "text/plain": [
       "<Figure size 800x400 with 1 Axes>"
      ]
     },
     "metadata": {},
     "output_type": "display_data"
    }
   ],
   "source": [
    "# Group data by year and calculate total suicides\n",
    "yearly_data = data.groupby('year')['total'].sum()\n",
    "\n",
    "# Plot the temporal pattern\n",
    "plt.figure(figsize=(8, 4))\n",
    "plt.plot(yearly_data.index, yearly_data.values, marker='o', color='blue')\n",
    "plt.title('Temporal Pattern of Suicides Over the Years')\n",
    "plt.xlabel('Year')\n",
    "plt.ylabel('Total Suicides')\n",
    "plt.grid()\n",
    "plt.show()"
   ]
  },
  {
   "cell_type": "code",
   "execution_count": 113,
   "id": "bae598ed-35bf-45f3-a67b-2f2ffec99577",
   "metadata": {},
   "outputs": [
    {
     "data": {
      "text/html": [
       "<div>\n",
       "<style scoped>\n",
       "    .dataframe tbody tr th:only-of-type {\n",
       "        vertical-align: middle;\n",
       "    }\n",
       "\n",
       "    .dataframe tbody tr th {\n",
       "        vertical-align: top;\n",
       "    }\n",
       "\n",
       "    .dataframe thead th {\n",
       "        text-align: right;\n",
       "    }\n",
       "</style>\n",
       "<table border=\"1\" class=\"dataframe\">\n",
       "  <thead>\n",
       "    <tr style=\"text-align: right;\">\n",
       "      <th></th>\n",
       "      <th>state</th>\n",
       "      <th>year</th>\n",
       "      <th>type_code</th>\n",
       "      <th>type</th>\n",
       "      <th>gender</th>\n",
       "      <th>age_group</th>\n",
       "      <th>total</th>\n",
       "    </tr>\n",
       "  </thead>\n",
       "  <tbody>\n",
       "    <tr>\n",
       "      <th>0</th>\n",
       "      <td>A &amp; N Islands</td>\n",
       "      <td>2001</td>\n",
       "      <td>Causes</td>\n",
       "      <td>Illness (Aids/STD)</td>\n",
       "      <td>Female</td>\n",
       "      <td>0-14</td>\n",
       "      <td>0</td>\n",
       "    </tr>\n",
       "    <tr>\n",
       "      <th>1</th>\n",
       "      <td>A &amp; N Islands</td>\n",
       "      <td>2001</td>\n",
       "      <td>Causes</td>\n",
       "      <td>Bankruptcy or Sudden change in Economic</td>\n",
       "      <td>Female</td>\n",
       "      <td>0-14</td>\n",
       "      <td>0</td>\n",
       "    </tr>\n",
       "    <tr>\n",
       "      <th>2</th>\n",
       "      <td>A &amp; N Islands</td>\n",
       "      <td>2001</td>\n",
       "      <td>Causes</td>\n",
       "      <td>Cancellation/Non-Settlement of Marriage</td>\n",
       "      <td>Female</td>\n",
       "      <td>0-14</td>\n",
       "      <td>0</td>\n",
       "    </tr>\n",
       "    <tr>\n",
       "      <th>3</th>\n",
       "      <td>A &amp; N Islands</td>\n",
       "      <td>2001</td>\n",
       "      <td>Causes</td>\n",
       "      <td>Physical Abuse (Rape/Incest Etc.)</td>\n",
       "      <td>Female</td>\n",
       "      <td>0-14</td>\n",
       "      <td>0</td>\n",
       "    </tr>\n",
       "    <tr>\n",
       "      <th>4</th>\n",
       "      <td>A &amp; N Islands</td>\n",
       "      <td>2001</td>\n",
       "      <td>Causes</td>\n",
       "      <td>Dowry Dispute</td>\n",
       "      <td>Female</td>\n",
       "      <td>0-14</td>\n",
       "      <td>0</td>\n",
       "    </tr>\n",
       "    <tr>\n",
       "      <th>...</th>\n",
       "      <td>...</td>\n",
       "      <td>...</td>\n",
       "      <td>...</td>\n",
       "      <td>...</td>\n",
       "      <td>...</td>\n",
       "      <td>...</td>\n",
       "      <td>...</td>\n",
       "    </tr>\n",
       "    <tr>\n",
       "      <th>237514</th>\n",
       "      <td>West Bengal</td>\n",
       "      <td>2012</td>\n",
       "      <td>Social_Status</td>\n",
       "      <td>Seperated</td>\n",
       "      <td>Male</td>\n",
       "      <td>0-100+</td>\n",
       "      <td>149</td>\n",
       "    </tr>\n",
       "    <tr>\n",
       "      <th>237515</th>\n",
       "      <td>West Bengal</td>\n",
       "      <td>2012</td>\n",
       "      <td>Social_Status</td>\n",
       "      <td>Widowed/Widower</td>\n",
       "      <td>Male</td>\n",
       "      <td>0-100+</td>\n",
       "      <td>233</td>\n",
       "    </tr>\n",
       "    <tr>\n",
       "      <th>237516</th>\n",
       "      <td>West Bengal</td>\n",
       "      <td>2012</td>\n",
       "      <td>Social_Status</td>\n",
       "      <td>Married</td>\n",
       "      <td>Male</td>\n",
       "      <td>0-100+</td>\n",
       "      <td>5451</td>\n",
       "    </tr>\n",
       "    <tr>\n",
       "      <th>237517</th>\n",
       "      <td>West Bengal</td>\n",
       "      <td>2012</td>\n",
       "      <td>Social_Status</td>\n",
       "      <td>Divorcee</td>\n",
       "      <td>Male</td>\n",
       "      <td>0-100+</td>\n",
       "      <td>189</td>\n",
       "    </tr>\n",
       "    <tr>\n",
       "      <th>237518</th>\n",
       "      <td>West Bengal</td>\n",
       "      <td>2012</td>\n",
       "      <td>Social_Status</td>\n",
       "      <td>Never Married</td>\n",
       "      <td>Male</td>\n",
       "      <td>0-100+</td>\n",
       "      <td>2658</td>\n",
       "    </tr>\n",
       "  </tbody>\n",
       "</table>\n",
       "<p>237519 rows × 7 columns</p>\n",
       "</div>"
      ],
      "text/plain": [
       "                state  year      type_code  \\\n",
       "0       A & N Islands  2001         Causes   \n",
       "1       A & N Islands  2001         Causes   \n",
       "2       A & N Islands  2001         Causes   \n",
       "3       A & N Islands  2001         Causes   \n",
       "4       A & N Islands  2001         Causes   \n",
       "...               ...   ...            ...   \n",
       "237514    West Bengal  2012  Social_Status   \n",
       "237515    West Bengal  2012  Social_Status   \n",
       "237516    West Bengal  2012  Social_Status   \n",
       "237517    West Bengal  2012  Social_Status   \n",
       "237518    West Bengal  2012  Social_Status   \n",
       "\n",
       "                                           type  gender age_group  total  \n",
       "0                            Illness (Aids/STD)  Female      0-14      0  \n",
       "1       Bankruptcy or Sudden change in Economic  Female      0-14      0  \n",
       "2       Cancellation/Non-Settlement of Marriage  Female      0-14      0  \n",
       "3             Physical Abuse (Rape/Incest Etc.)  Female      0-14      0  \n",
       "4                                 Dowry Dispute  Female      0-14      0  \n",
       "...                                         ...     ...       ...    ...  \n",
       "237514                                Seperated    Male    0-100+    149  \n",
       "237515                          Widowed/Widower    Male    0-100+    233  \n",
       "237516                                  Married    Male    0-100+   5451  \n",
       "237517                                 Divorcee    Male    0-100+    189  \n",
       "237518                            Never Married    Male    0-100+   2658  \n",
       "\n",
       "[237519 rows x 7 columns]"
      ]
     },
     "execution_count": 113,
     "metadata": {},
     "output_type": "execute_result"
    }
   ],
   "source": [
    "data"
   ]
  },
  {
   "cell_type": "code",
   "execution_count": 50,
   "id": "f42f95f5-e537-4c09-a0da-fa977243cc0e",
   "metadata": {},
   "outputs": [
    {
     "data": {
      "text/plain": [
       "13071734"
      ]
     },
     "execution_count": 50,
     "metadata": {},
     "output_type": "execute_result"
    }
   ],
   "source": [
    "data.total.sum() #Total number of suicides"
   ]
  },
  {
   "cell_type": "code",
   "execution_count": 52,
   "id": "e2698745-793e-41f9-9236-a72735a22b41",
   "metadata": {},
   "outputs": [
    {
     "data": {
      "text/plain": [
       "state\n",
       "Total (All India)    2911862\n",
       "Total (States)       2858026\n",
       "Maharashtra           901945\n",
       "West Bengal           849936\n",
       "Tamil Nadu            818691\n",
       "Andhra Pradesh        814059\n",
       "Karnataka             734825\n",
       "Kerala                538946\n",
       "Madhya Pradesh        451535\n",
       "Gujarat               330858\n",
       "Chhattisgarh          302354\n",
       "Odisha                267234\n",
       "Rajasthan             255134\n",
       "Uttar Pradesh         233352\n",
       "Assam                 172276\n",
       "Haryana               147176\n",
       "Delhi (Ut)             84272\n",
       "Total (Uts)            53836\n",
       "Jharkhand              49720\n",
       "Punjab                 46350\n",
       "Bihar                  46214\n",
       "Tripura                45965\n",
       "Puducherry             32144\n",
       "Himachal Pradesh       26562\n",
       "Uttarakhand            18496\n",
       "Goa                    17363\n",
       "Jammu & Kashmir        14821\n",
       "Sikkim                  9606\n",
       "A & N Islands           8109\n",
       "Arunachal Pradesh       6633\n",
       "Meghalaya               5415\n",
       "Chandigarh              5164\n",
       "Mizoram                 4154\n",
       "D & N Haveli            3430\n",
       "Manipur                 2102\n",
       "Nagaland                1728\n",
       "Daman & Diu             1391\n",
       "Lakshadweep               50\n",
       "Name: total, dtype: int64"
      ]
     },
     "execution_count": 52,
     "metadata": {},
     "output_type": "execute_result"
    }
   ],
   "source": [
    "data.groupby('state').total.sum().sort_values(ascending=False) #Number of suicides state-wise"
   ]
  },
  {
   "cell_type": "code",
   "execution_count": 56,
   "id": "2763b5d9-73e6-4c91-8947-3542bc006f87",
   "metadata": {},
   "outputs": [
    {
     "data": {
      "text/plain": [
       "year\n",
       "2001     976464\n",
       "2002     993648\n",
       "2003     997622\n",
       "2004    1023137\n",
       "2005    1025201\n",
       "2006    1062991\n",
       "2007    1103667\n",
       "2008    1125082\n",
       "2009    1144033\n",
       "2010    1211322\n",
       "2011    1219499\n",
       "2012    1189068\n",
       "Name: total, dtype: int64"
      ]
     },
     "execution_count": 56,
     "metadata": {},
     "output_type": "execute_result"
    }
   ],
   "source": [
    "### Total Sucides Year Wise\n",
    "data.groupby('year').total.sum()"
   ]
  },
  {
   "cell_type": "code",
   "execution_count": 58,
   "id": "d463af63-a709-4bb9-a942-02ee4fa41e8c",
   "metadata": {},
   "outputs": [
    {
     "data": {
      "text/plain": [
       "gender\n",
       "Female    4702974\n",
       "Male      8368760\n",
       "Name: total, dtype: int64"
      ]
     },
     "execution_count": 58,
     "metadata": {},
     "output_type": "execute_result"
    }
   ],
   "source": [
    "### Total Sucides Gender Wise\n",
    "data.groupby('gender').total.sum()"
   ]
  },
  {
   "cell_type": "code",
   "execution_count": 60,
   "id": "c4bd442f-8cb6-4805-87a0-73958bd7c2a8",
   "metadata": {},
   "outputs": [
    {
     "data": {
      "text/plain": [
       "year  state            \n",
       "2001  A & N Islands          645\n",
       "      Andhra Pradesh       52610\n",
       "      Arunachal Pradesh      555\n",
       "      Assam                13230\n",
       "      Bihar                 3015\n",
       "                           ...  \n",
       "2012  Total (Uts)           5556\n",
       "      Tripura               4220\n",
       "      Uttar Pradesh        22107\n",
       "      Uttarakhand           2120\n",
       "      West Bengal          44871\n",
       "Name: total, Length: 456, dtype: int64"
      ]
     },
     "execution_count": 60,
     "metadata": {},
     "output_type": "execute_result"
    }
   ],
   "source": [
    "# Total Sucides year-state Wise\n",
    "data.groupby(['year','state']).total.sum()"
   ]
  },
  {
   "cell_type": "code",
   "execution_count": 62,
   "id": "2b6620f6-a8e3-43c3-83f3-e297669a80a7",
   "metadata": {},
   "outputs": [
    {
     "data": {
      "text/plain": [
       "year  gender\n",
       "2001  Female    379645\n",
       "      Male      596819\n",
       "2002  Female    369675\n",
       "      Male      623973\n",
       "2003  Female    365657\n",
       "      Male      631965\n",
       "2004  Female    369297\n",
       "      Male      653840\n",
       "2005  Female    368980\n",
       "      Male      656221\n",
       "2006  Female    381677\n",
       "      Male      681314\n",
       "2007  Female    390032\n",
       "      Male      713635\n",
       "2008  Female    400202\n",
       "      Male      724880\n",
       "2009  Female    411050\n",
       "      Male      732983\n",
       "2010  Female    426705\n",
       "      Male      784617\n",
       "2011  Female    429688\n",
       "      Male      789811\n",
       "2012  Female    410366\n",
       "      Male      778702\n",
       "Name: total, dtype: int64"
      ]
     },
     "execution_count": 62,
     "metadata": {},
     "output_type": "execute_result"
    }
   ],
   "source": [
    "# Total Sucides year-gender Wise\n",
    "data.groupby(['year','gender']).total.sum()"
   ]
  },
  {
   "cell_type": "code",
   "execution_count": 16,
   "id": "13151b2c-6101-4051-97dc-ca9c69457db5",
   "metadata": {},
   "outputs": [
    {
     "data": {
      "image/png": "[encoded data removed]",
      "text/plain": [
       "<Figure size 600x400 with 1 Axes>"
      ]
     },
     "metadata": {},
     "output_type": "display_data"
    }
   ],
   "source": [
    "import matplotlib.pyplot as plt\n",
    "\n",
    "# Aggregating data by year to examine temporal trends\n",
    "yearly_data = data.groupby('year').size()\n",
    "\n",
    "# Plotting suicide trends over years\n",
    "plt.figure(figsize=(6, 4))\n",
    "yearly_data.plot(kind='line', marker='o', color='b')\n",
    "plt.title('Suicides in India Over the Years')\n",
    "plt.xlabel('Year')\n",
    "plt.ylabel('Number of Suicides')\n",
    "plt.grid(True)\n",
    "plt.show()"
   ]
  },
  {
   "cell_type": "code",
   "execution_count": 90,
   "id": "5bf93070-0c20-483f-9b96-d2b78bb5a2f7",
   "metadata": {},
   "outputs": [
    {
     "data": {
      "text/plain": [
       "state\n",
       "A & N Islands        Illness (Aids/STD)Bankruptcy or Sudden change ...\n",
       "Andhra Pradesh       ParalysisPovertyDeath of Dear PersonFailure in...\n",
       "Arunachal Pradesh    Cancellation/Non-Settlement of MarriageOther C...\n",
       "Assam                Drug Abuse/AddictionNot having Children(Barren...\n",
       "Bihar                Drug Abuse/AddictionNot having Children(Barren...\n",
       "Name: type, dtype: object"
      ]
     },
     "execution_count": 90,
     "metadata": {},
     "output_type": "execute_result"
    }
   ],
   "source": [
    "temporal_data = data.groupby('state')['type'].sum()\n",
    "temporal_data.head()"
   ]
  },
  {
   "cell_type": "code",
   "execution_count": 28,
   "id": "e46e9d4f-23b0-4522-8820-99b9467e0782",
   "metadata": {},
   "outputs": [
    {
     "data": {
      "text/plain": [
       "state\n",
       "Madhya Pradesh    6792\n",
       "Maharashtra       6792\n",
       "Karnataka         6792\n",
       "Odisha            6791\n",
       "Andhra Pradesh    6791\n",
       "Rajasthan         6791\n",
       "Bihar             6790\n",
       "Chhattisgarh      6790\n",
       "Haryana           6790\n",
       "Kerala            6788\n",
       "Name: type, dtype: int64"
      ]
     },
     "execution_count": 28,
     "metadata": {},
     "output_type": "execute_result"
    }
   ],
   "source": [
    "#Top 10 states having highest number of suicides\n",
    "top_10_states = data.groupby('state')['type'].count().sort_values(ascending=False).head(10)\n",
    "top_10_states.head(10)"
   ]
  },
  {
   "cell_type": "code",
   "execution_count": 30,
   "id": "97d82212-0e4d-444f-8746-a092d486d1ee",
   "metadata": {},
   "outputs": [
    {
     "data": {
      "text/plain": [
       "state\n",
       "Total (Uts)           312\n",
       "Total (States)        312\n",
       "Total (All India)     312\n",
       "Lakshadweep          6674\n",
       "Manipur              6700\n",
       "D & N Haveli         6704\n",
       "Nagaland             6705\n",
       "Arunachal Pradesh    6707\n",
       "Daman & Diu          6710\n",
       "A & N Islands        6712\n",
       "Name: type, dtype: int64"
      ]
     },
     "execution_count": 30,
     "metadata": {},
     "output_type": "execute_result"
    }
   ],
   "source": [
    "#Top 10 states having lowest number of suicides\n",
    "top_10_states_lowest = data.groupby('state')['type'].count().sort_values(ascending=True).head(10)\n",
    "top_10_states_lowest.head(10)"
   ]
  },
  {
   "cell_type": "code",
   "execution_count": 28,
   "id": "971bb64b-db1d-4667-883e-dc77d65a50de",
   "metadata": {},
   "outputs": [],
   "source": [
    "temporal_data1 = data.groupby('state')['type'].count()"
   ]
  },
  {
   "cell_type": "code",
   "execution_count": 30,
   "id": "8ae040fd-8474-41c3-a753-01db9631ea26",
   "metadata": {},
   "outputs": [
    {
     "data": {
      "text/plain": [
       "state\n",
       "A & N Islands        6712\n",
       "Andhra Pradesh       6791\n",
       "Arunachal Pradesh    6707\n",
       "Assam                6786\n",
       "Bihar                6790\n",
       "Name: type, dtype: int64"
      ]
     },
     "execution_count": 30,
     "metadata": {},
     "output_type": "execute_result"
    }
   ],
   "source": [
    "temporal_data1.head()"
   ]
  },
  {
   "cell_type": "code",
   "execution_count": 32,
   "id": "d57793df-f873-4b2f-b680-b1d0092b76cc",
   "metadata": {},
   "outputs": [],
   "source": [
    "import numpy as np\n",
    "import matplotlib.pyplot as plt\n",
    "from sklearn.neighbors import KernelDensity\n",
    "from sklearn.preprocessing import StandardScaler"
   ]
  },
  {
   "cell_type": "code",
   "execution_count": 98,
   "id": "7ef2258f-c4f3-4c88-9e04-a6bb2b5682dc",
   "metadata": {},
   "outputs": [
    {
     "data": {
      "text/plain": [
       "(array([0.00012183, 0.        , 0.        , 0.        , 0.        ,\n",
       "        0.        , 0.        , 0.        , 0.        , 0.00142138]),\n",
       " array([ 312.,  960., 1608., 2256., 2904., 3552., 4200., 4848., 5496.,\n",
       "        6144., 6792.]),\n",
       " <BarContainer object of 10 artists>)"
      ]
     },
     "execution_count": 98,
     "metadata": {},
     "output_type": "execute_result"
    },
    {
     "data": {
      "image/png": "[encoded data removed]",
      "text/plain": [
       "<Figure size 640x480 with 1 Axes>"
      ]
     },
     "metadata": {},
     "output_type": "display_data"
    }
   ],
   "source": [
    "plt.hist(temporal_data,density=True)"
   ]
  },
  {
   "cell_type": "code",
   "execution_count": 32,
   "id": "ef5c15bf-585a-4e95-b5a8-c0dab4cf41d3",
   "metadata": {},
   "outputs": [
    {
     "name": "stderr",
     "output_type": "stream",
     "text": [
      "C:\\Users\\Hp\\anaconda3\\Lib\\site-packages\\seaborn\\_oldcore.py:1119: FutureWarning: use_inf_as_na option is deprecated and will be removed in a future version. Convert inf values to NaN before operating instead.\n",
      "  with pd.option_context('mode.use_inf_as_na', True):\n"
     ]
    },
    {
     "data": {
      "text/plain": [
       "<Axes: xlabel='type', ylabel='Count'>"
      ]
     },
     "execution_count": 32,
     "metadata": {},
     "output_type": "execute_result"
    },
    {
     "data": {
      "image/png": "[encoded data removed]",
      "text/plain": [
       "<Figure size 640x480 with 1 Axes>"
      ]
     },
     "metadata": {},
     "output_type": "display_data"
    }
   ],
   "source": [
    "import seaborn as sns\n",
    "sns.histplot(data=temporal_data1, kde=True)"
   ]
  },
  {
   "cell_type": "code",
   "execution_count": 16,
   "id": "ca679bb7-d8df-4b79-8516-f493bb8a5d2f",
   "metadata": {},
   "outputs": [
    {
     "data": {
      "text/plain": [
       "Index(['State', 'Year', 'Type_code', 'Type', 'Gender', 'Age_group', 'Total'], dtype='object')"
      ]
     },
     "execution_count": 16,
     "metadata": {},
     "output_type": "execute_result"
    }
   ],
   "source": [
    "data.columns"
   ]
  },
  {
   "cell_type": "code",
   "execution_count": 106,
   "id": "92a257a9-fda1-41e1-aebd-4f0ec3d3470d",
   "metadata": {},
   "outputs": [],
   "source": [
    "suicide_by_state = data.groupby('state')['total'].sum()"
   ]
  },
  {
   "cell_type": "code",
   "execution_count": 108,
   "id": "3d95c0ad-39ce-409e-b116-74f80f67c566",
   "metadata": {},
   "outputs": [
    {
     "data": {
      "text/plain": [
       "state\n",
       "Andhra Pradesh       814059\n",
       "Assam                172276\n",
       "Bihar                 46214\n",
       "A & N Islands          8109\n",
       "Arunachal Pradesh      6633\n",
       "Name: total, dtype: int64"
      ]
     },
     "execution_count": 108,
     "metadata": {},
     "output_type": "execute_result"
    }
   ],
   "source": [
    "suicide_by_state.head().sort_values(ascending=False)"
   ]
  },
  {
   "cell_type": "code",
   "execution_count": 115,
   "id": "1bede50f-b8a2-44aa-b9cf-3e8445d8999c",
   "metadata": {},
   "outputs": [
    {
     "name": "stdout",
     "output_type": "stream",
     "text": [
      " * Serving Flask app '__main__'\n",
      " * Debug mode: on\n"
     ]
    },
    {
     "name": "stderr",
     "output_type": "stream",
     "text": [
      "WARNING: This is a development server. Do not use it in a production deployment. Use a production WSGI server instead.\n",
      " * Running on http://127.0.0.1:5000\n",
      "Press CTRL+C to quit\n",
      " * Restarting with watchdog (windowsapi)\n"
     ]
    },
    {
     "ename": "SystemExit",
     "evalue": "1",
     "output_type": "error",
     "traceback": [
      "An exception has occurred, use %tb to see the full traceback.\n",
      "\u001b[1;31mSystemExit\u001b[0m\u001b[1;31m:\u001b[0m 1\n"
     ]
    },
    {
     "name": "stderr",
     "output_type": "stream",
     "text": [
      "C:\\Users\\Hp\\anaconda3\\Lib\\site-packages\\IPython\\core\\interactiveshell.py:3561: UserWarning: To exit: use 'exit', 'quit', or Ctrl-D.\n",
      "  warn(\"To exit: use 'exit', 'quit', or Ctrl-D.\", stacklevel=1)\n"
     ]
    }
   ],
   "source": [
    "from flask import Flask, render_template\n",
    "import folium\n",
    "\n",
    "app = Flask(__name__)\n",
    "\n",
    "@app.route(\"/\")\n",
    "def helpline():\n",
    "    # Create a map centered around a specific location\n",
    "    india_map = folium.Map(location=[20.5937, 78.9629], zoom_start=5)\n",
    "    return render_template('index.html', map=india_map)\n",
    "\n",
    "if __name__ == \"__main__\":\n",
    "    app.run(debug=True)"
   ]
  },
  {
   "cell_type": "code",
   "execution_count": 112,
   "id": "7b403b9c-c012-45c2-a8fb-43986bbdf1bd",
   "metadata": {},
   "outputs": [
    {
     "name": "stdout",
     "output_type": "stream",
     "text": [
      "Collecting folium\n",
      "  Downloading folium-0.18.0-py2.py3-none-any.whl.metadata (3.8 kB)\n",
      "Collecting branca>=0.6.0 (from folium)\n",
      "  Downloading branca-0.8.0-py3-none-any.whl.metadata (1.5 kB)\n",
      "Requirement already satisfied: jinja2>=2.9 in c:\\users\\hp\\anaconda3\\lib\\site-packages (from folium) (3.1.3)\n",
      "Requirement already satisfied: numpy in c:\\users\\hp\\anaconda3\\lib\\site-packages (from folium) (1.26.4)\n",
      "Requirement already satisfied: requests in c:\\users\\hp\\anaconda3\\lib\\site-packages (from folium) (2.31.0)\n",
      "Requirement already satisfied: xyzservices in c:\\users\\hp\\anaconda3\\lib\\site-packages (from folium) (2022.9.0)\n",
      "Requirement already satisfied: MarkupSafe>=2.0 in c:\\users\\hp\\anaconda3\\lib\\site-packages (from jinja2>=2.9->folium) (2.1.3)\n",
      "Requirement already satisfied: charset-normalizer<4,>=2 in c:\\users\\hp\\anaconda3\\lib\\site-packages (from requests->folium) (2.0.4)\n",
      "Requirement already satisfied: idna<4,>=2.5 in c:\\users\\hp\\anaconda3\\lib\\site-packages (from requests->folium) (3.4)\n",
      "Requirement already satisfied: urllib3<3,>=1.21.1 in c:\\users\\hp\\anaconda3\\lib\\site-packages (from requests->folium) (2.0.7)\n",
      "Requirement already satisfied: certifi>=2017.4.17 in c:\\users\\hp\\anaconda3\\lib\\site-packages (from requests->folium) (2024.7.4)\n",
      "Downloading folium-0.18.0-py2.py3-none-any.whl (108 kB)\n",
      "   ---------------------------------------- 0.0/108.9 kB ? eta -:--:--\n",
      "   ---------------------------------------- 0.0/108.9 kB ? eta -:--:--\n",
      "   ---------------------------------------- 0.0/108.9 kB ? eta -:--:--\n",
      "   ---------------------------------------- 0.0/108.9 kB ? eta -:--:--\n",
      "   --- ------------------------------------ 10.2/108.9 kB ? eta -:--:--\n",
      "   --- ------------------------------------ 10.2/108.9 kB ? eta -:--:--\n",
      "   --- ------------------------------------ 10.2/108.9 kB ? eta -:--:--\n",
      "   --- ------------------------------------ 10.2/108.9 kB ? eta -:--:--\n",
      "   --- ------------------------------------ 10.2/108.9 kB ? eta -:--:--\n",
      "   ----------- ---------------------------- 30.7/108.9 kB 87.5 kB/s eta 0:00:01\n",
      "   ----------- ---------------------------- 30.7/108.9 kB 87.5 kB/s eta 0:00:01\n",
      "   ----------- ---------------------------- 30.7/108.9 kB 87.5 kB/s eta 0:00:01\n",
      "   ----------- ---------------------------- 30.7/108.9 kB 87.5 kB/s eta 0:00:01\n",
      "   ----------- ---------------------------- 30.7/108.9 kB 87.5 kB/s eta 0:00:01\n",
      "   --------------- ------------------------ 41.0/108.9 kB 65.5 kB/s eta 0:00:02\n",
      "   --------------- ------------------------ 41.0/108.9 kB 65.5 kB/s eta 0:00:02\n",
      "   ---------------------- ----------------- 61.4/108.9 kB 96.4 kB/s eta 0:00:01\n",
      "   ---------------------- ----------------- 61.4/108.9 kB 96.4 kB/s eta 0:00:01\n",
      "   ---------------------- ----------------- 61.4/108.9 kB 96.4 kB/s eta 0:00:01\n",
      "   -------------------------- ------------- 71.7/108.9 kB 89.3 kB/s eta 0:00:01\n",
      "   -------------------------- ------------- 71.7/108.9 kB 89.3 kB/s eta 0:00:01\n",
      "   -------------------------- ------------- 71.7/108.9 kB 89.3 kB/s eta 0:00:01\n",
      "   --------------------------------- ------ 92.2/108.9 kB 95.4 kB/s eta 0:00:01\n",
      "   --------------------------------- ------ 92.2/108.9 kB 95.4 kB/s eta 0:00:01\n",
      "   --------------------------------- ------ 92.2/108.9 kB 95.4 kB/s eta 0:00:01\n",
      "   ------------------------------------ -- 102.4/108.9 kB 93.7 kB/s eta 0:00:01\n",
      "   --------------------------------------- 108.9/108.9 kB 97.1 kB/s eta 0:00:00\n",
      "Downloading branca-0.8.0-py3-none-any.whl (25 kB)\n",
      "Installing collected packages: branca, folium\n",
      "Successfully installed branca-0.8.0 folium-0.18.0\n",
      "Note: you may need to restart the kernel to use updated packages.\n"
     ]
    }
   ],
   "source": [
    "pip install folium"
   ]
  },
  {
   "cell_type": "code",
   "execution_count": 38,
   "id": "d6c2cde8-f5c2-4c78-b3ae-24d4abcbb06f",
   "metadata": {},
   "outputs": [
    {
     "data": {
      "text/plain": [
       "year\n",
       "2001     976464\n",
       "2002     993648\n",
       "2003     997622\n",
       "2004    1023137\n",
       "2005    1025201\n",
       "2006    1062991\n",
       "2007    1103667\n",
       "2008    1125082\n",
       "2009    1144033\n",
       "2010    1211322\n",
       "2011    1219499\n",
       "2012    1189068\n",
       "Name: total, dtype: int64"
      ]
     },
     "execution_count": 38,
     "metadata": {},
     "output_type": "execute_result"
    }
   ],
   "source": [
    "suicide_by_year = data.groupby('year')['total'].sum()\n",
    "suicide_by_year"
   ]
  },
  {
   "cell_type": "code",
   "execution_count": 40,
   "id": "e76e9009-5509-4cf2-b9a0-be0f4c3d30a2",
   "metadata": {},
   "outputs": [
    {
     "data": {
      "image/png": "[encoded data removed]",
      "text/plain": [
       "<Figure size 1200x600 with 1 Axes>"
      ]
     },
     "metadata": {},
     "output_type": "display_data"
    }
   ],
   "source": [
    "# Line Plot: Suicide Trends Over Time (by Year)\n",
    "plt.figure(figsize=(12, 6))\n",
    "suicide_by_year.plot(kind='line', color='red', linewidth=2)\n",
    "plt.title('Suicides Trends Over Time')\n",
    "plt.xlabel('Year')\n",
    "plt.ylabel('Total Suicides')\n",
    "plt.grid(True)\n",
    "plt.show()"
   ]
  },
  {
   "cell_type": "code",
   "execution_count": 56,
   "id": "b3a61fec-b325-44ea-ba20-4dbe9d01346b",
   "metadata": {},
   "outputs": [
    {
     "data": {
      "text/plain": [
       "state\n",
       "Total (All India)    2911862\n",
       "Total (States)       2858026\n",
       "Maharashtra           901945\n",
       "West Bengal           849936\n",
       "Tamil Nadu            818691\n",
       "Name: total, dtype: int64"
      ]
     },
     "execution_count": 56,
     "metadata": {},
     "output_type": "execute_result"
    }
   ],
   "source": [
    "suicide_by_state = data.groupby('state')['total'].sum().sort_values(ascending=False)\n",
    "suicide_by_state.head()"
   ]
  },
  {
   "cell_type": "code",
   "execution_count": 50,
   "id": "1ed62c7a-c6a4-444b-b1d6-e7ac051669eb",
   "metadata": {},
   "outputs": [
    {
     "data": {
      "image/png": "[encoded data removed]",
      "text/plain": [
       "<Figure size 1200x800 with 1 Axes>"
      ]
     },
     "metadata": {},
     "output_type": "display_data"
    }
   ],
   "source": [
    "#Bar Plot: Suicides by State (Total Suicides)\n",
    "plt.figure(figsize=(12, 8))\n",
    "suicide_by_state.plot(kind='barh', color='lightcoral')\n",
    "plt.title('Total Suicides by State')\n",
    "plt.xlabel('Total Suicides')\n",
    "plt.ylabel('State')\n",
    "plt.show()"
   ]
  },
  {
   "cell_type": "code",
   "execution_count": 52,
   "id": "01655d4f-79f8-4864-8b23-2c09767705b5",
   "metadata": {},
   "outputs": [
    {
     "data": {
      "image/png": "[encoded data removed]",
      "text/plain": [
       "<Figure size 1000x600 with 1 Axes>"
      ]
     },
     "metadata": {},
     "output_type": "display_data"
    }
   ],
   "source": [
    "# Grouped by Gender and sum suicides\n",
    "suicide_by_gender = data.groupby('gender')['total'].sum()\n",
    "\n",
    "# visualized bar plot for suicides by gender\n",
    "suicide_by_gender.plot(kind='bar', figsize=(10, 6), color='lightblue')\n",
    "plt.title('Total Suicides by Gender')\n",
    "plt.xlabel('Gender')\n",
    "plt.ylabel('Total Suicides')\n",
    "plt.xticks(rotation=0)\n",
    "plt.show()"
   ]
  },
  {
   "cell_type": "code",
   "execution_count": 54,
   "id": "64bd094b-5c10-40c7-84ac-ffd32aac907d",
   "metadata": {},
   "outputs": [
    {
     "data": {
      "image/png": "[encoded data removed]",
      "text/plain": [
       "<Figure size 1000x600 with 1 Axes>"
      ]
     },
     "metadata": {},
     "output_type": "display_data"
    }
   ],
   "source": [
    "# Grouped by Age Group and sum suicides\n",
    "suicide_by_age_group = data.groupby('age_group')['total'].sum()\n",
    "\n",
    "# Visualized bar plot for suicides by age group\n",
    "suicide_by_age_group.plot(kind='bar', figsize=(10, 6), color='skyblue')\n",
    "plt.title('Total Suicides by Age Group')\n",
    "plt.xlabel('Age Group')\n",
    "plt.ylabel('Total Suicides')\n",
    "plt.xticks(rotation=45)\n",
    "plt.show()"
   ]
  },
  {
   "cell_type": "code",
   "execution_count": 64,
   "id": "74d3d479-057c-4ca5-a791-4771f1877d99",
   "metadata": {},
   "outputs": [
    {
     "data": {
      "text/html": [
       "<div>\n",
       "<style scoped>\n",
       "    .dataframe tbody tr th:only-of-type {\n",
       "        vertical-align: middle;\n",
       "    }\n",
       "\n",
       "    .dataframe tbody tr th {\n",
       "        vertical-align: top;\n",
       "    }\n",
       "\n",
       "    .dataframe thead th {\n",
       "        text-align: right;\n",
       "    }\n",
       "</style>\n",
       "<table border=\"1\" class=\"dataframe\">\n",
       "  <thead>\n",
       "    <tr style=\"text-align: right;\">\n",
       "      <th></th>\n",
       "      <th>state</th>\n",
       "      <th>year</th>\n",
       "      <th>type_code</th>\n",
       "      <th>type</th>\n",
       "      <th>gender</th>\n",
       "      <th>age_group</th>\n",
       "      <th>total</th>\n",
       "    </tr>\n",
       "  </thead>\n",
       "  <tbody>\n",
       "    <tr>\n",
       "      <th>0</th>\n",
       "      <td>A &amp; N Islands</td>\n",
       "      <td>2001</td>\n",
       "      <td>Causes</td>\n",
       "      <td>Illness (Aids/STD)</td>\n",
       "      <td>Female</td>\n",
       "      <td>0-14</td>\n",
       "      <td>0</td>\n",
       "    </tr>\n",
       "    <tr>\n",
       "      <th>1</th>\n",
       "      <td>A &amp; N Islands</td>\n",
       "      <td>2001</td>\n",
       "      <td>Causes</td>\n",
       "      <td>Bankruptcy or Sudden change in Economic</td>\n",
       "      <td>Female</td>\n",
       "      <td>0-14</td>\n",
       "      <td>0</td>\n",
       "    </tr>\n",
       "    <tr>\n",
       "      <th>2</th>\n",
       "      <td>A &amp; N Islands</td>\n",
       "      <td>2001</td>\n",
       "      <td>Causes</td>\n",
       "      <td>Cancellation/Non-Settlement of Marriage</td>\n",
       "      <td>Female</td>\n",
       "      <td>0-14</td>\n",
       "      <td>0</td>\n",
       "    </tr>\n",
       "    <tr>\n",
       "      <th>3</th>\n",
       "      <td>A &amp; N Islands</td>\n",
       "      <td>2001</td>\n",
       "      <td>Causes</td>\n",
       "      <td>Physical Abuse (Rape/Incest Etc.)</td>\n",
       "      <td>Female</td>\n",
       "      <td>0-14</td>\n",
       "      <td>0</td>\n",
       "    </tr>\n",
       "    <tr>\n",
       "      <th>4</th>\n",
       "      <td>A &amp; N Islands</td>\n",
       "      <td>2001</td>\n",
       "      <td>Causes</td>\n",
       "      <td>Dowry Dispute</td>\n",
       "      <td>Female</td>\n",
       "      <td>0-14</td>\n",
       "      <td>0</td>\n",
       "    </tr>\n",
       "  </tbody>\n",
       "</table>\n",
       "</div>"
      ],
      "text/plain": [
       "           state  year type_code                                     type  \\\n",
       "0  A & N Islands  2001    Causes                       Illness (Aids/STD)   \n",
       "1  A & N Islands  2001    Causes  Bankruptcy or Sudden change in Economic   \n",
       "2  A & N Islands  2001    Causes  Cancellation/Non-Settlement of Marriage   \n",
       "3  A & N Islands  2001    Causes        Physical Abuse (Rape/Incest Etc.)   \n",
       "4  A & N Islands  2001    Causes                            Dowry Dispute   \n",
       "\n",
       "   gender age_group  total  \n",
       "0  Female      0-14      0  \n",
       "1  Female      0-14      0  \n",
       "2  Female      0-14      0  \n",
       "3  Female      0-14      0  \n",
       "4  Female      0-14      0  "
      ]
     },
     "execution_count": 64,
     "metadata": {},
     "output_type": "execute_result"
    }
   ],
   "source": [
    "data.head()"
   ]
  },
  {
   "cell_type": "code",
   "execution_count": 69,
   "id": "4774a793-7532-49c9-838f-7524f43930b7",
   "metadata": {},
   "outputs": [],
   "source": [
    "import folium\n",
    "\n",
    "# Initialized a map centered around over a time\n",
    "map_center = [20.5937, 78.9629]  # Coordinates for India\n",
    "suicide_map = folium.Map(location=map_center, zoom_start=5)\n",
    "\n",
    "for index, row in data.iterrows():\n",
    "    # Added a circle marker for each suicide location\n",
    "    folium.CircleMarker(\n",
    "        location=[row['year'], row['total']],\n",
    "        radius=5, \n",
    "        color='red', \n",
    "        fill=True, \n",
    "        fill_color='red', \n",
    "        fill_opacity=0.6\n",
    "    ).add_to(suicide_map)\n",
    "\n",
    "suicide_map.save('suicide_clusters_map.html')"
   ]
  },
  {
   "cell_type": "markdown",
   "id": "4b27ca2c-d59c-43a8-823d-69d3ef81cd66",
   "metadata": {},
   "source": [
    "Documentation and Reporting: Suicide Cluster Analysis"
   ]
  },
  {
   "cell_type": "markdown",
   "id": "4d7f9e9f-9fec-4e3b-899f-fe02fa6b8aeb",
   "metadata": {},
   "source": [
    "Introduction"
   ]
  },
  {
   "cell_type": "markdown",
   "id": "bd41849b-12a0-4f99-9fa7-3902d5607a59",
   "metadata": {},
   "source": [
    "Suicide is a major public health concern, and its prevention requires understanding its underlying patterns, causes, and clusters. In India, suicide \n",
    "rates have been rising, especially in certain regions, genders, and age groups. This project aims to analyze suicide data to identify clusters and \n",
    "hotspots, which will guide targeted intervention strategies. Additionally, a user-friendly interface will provide vital suicide helpline resources for \n",
    "individuals in need of support."
   ]
  },
  {
   "cell_type": "markdown",
   "id": "f6bb3cd9-9e96-4264-aa11-c37fd82563dd",
   "metadata": {},
   "source": [
    "Analysis and Findings"
   ]
  },
  {
   "cell_type": "markdown",
   "id": "cb5c1662-7927-4aca-b897-a2aeb2b4d096",
   "metadata": {},
   "source": [
    "Temporal Analysis of Suicides"
   ]
  },
  {
   "cell_type": "markdown",
   "id": "09fe096f-468c-47aa-aa5b-62130761be16",
   "metadata": {},
   "source": [
    "1.A significant increase in suicides was observed over the years, especially in certain age groups such as young adults (15-29 years) and middle-aged \n",
    "individuals (30-44 years).\n",
    "Gender analysis revealed that males had a higher suicide rate than females, with certain states showing even larger disparities between the genders.\n",
    "\n",
    "2.Geospatial Analysis of Suicide Clusters:\n",
    "State-Level Analysis: By aggregating suicide data at the state level, we identified regions with higher suicide rates. The states of Maharashtra, Tamil\n",
    "Nadu, West Bengal, and Andhra Pradesh were found to have consistently higher suicide rates over the years.\n",
    "\n",
    "Hotspot Analysis Using Folium: Using geospatial visualization techniques like Folium and Kernel Density Estimation (KDE), we mapped suicide hotspots.\n",
    "Hotspots were concentrated in urban areas, particularly in states like Maharashtra and Tamil Nadu. These regions show clusters of suicides that require\n",
    "immediate attention and resources.\n",
    "\n",
    "KDE Heatmap: The heatmap showed higher suicide densities in southern and western India, especially around metropolitan cities. These cities may have \n",
    "high-stress factors such as economic pressures, urbanization, and limited mental health services.\n",
    "\n",
    "3.3 Socio-Demographic Factors:\n",
    "Age groups most at risk included young adults (18-34 years) and middle-aged individuals (35-50 years). These age groups are often in the midst of \n",
    "personal, professional, and academic challenges, contributing to the rising numbers.\n",
    "Suicide types varied by region, with some areas having a higher prevalence of suicides by poisoning, while others had accidental deaths."
   ]
  },
  {
   "cell_type": "markdown",
   "id": "479e6704-722f-4aa4-bb50-1bcf4f304475",
   "metadata": {},
   "source": [
    "4. Suicide Clusters and Hotspot Identification\n",
    "From the spatial and temporal analysis, we identified several critical suicide clusters and hotspots:\n",
    "\n",
    "Southern India: Particularly Tamil Nadu, Kerala, and Karnataka show high suicide rates, especially among younger populations.\n",
    "Western India: Maharashtra, Gujarat, and Rajasthan are regions with significant suicide clusters, especially in urban centers like Mumbai, Pune, and Ahmedabad.\n",
    "Northeast India: States like Assam and Meghalaya have higher suicide rates compared to the national average, suggesting regional socio-economic or cultural factors.\n",
    "These findings underscore the need for region-specific intervention strategies to address mental health issues and provide support services in the most affected areas.\n",
    "\n",
    "5. Suicide Prevention Importance\n",
    "Suicide is preventable with timely intervention, appropriate mental health care, and social support systems. Raising awareness about mental health and providing accessible resources is crucial to reducing suicide rates. Key aspects of prevention include:\n",
    "\n",
    "Access to mental health care: Many individuals at risk do not have access to psychological counseling or support.\n",
    "Awareness campaigns: Reducing the stigma associated with mental health issues, and encouraging people to seek help, is vital.\n",
    "Community and social support: Building strong community ties and support systems can help reduce feelings of isolation, which is a major contributor to suicidal ideation.\n",
    "\n",
    "6. The Role of the User Interface in Suicide Prevention,a user-friendly interface that provides easy access to suicide prevention resources can play a significant role in saving lives. The interface will serve as a crucial tool for immediate Access to Helplines: Providing quick access to national and regional helplines for individuals in crisis. Resources and Information: Offering educational resources about mental health and prevention strategies.\n",
    "Geographic Personalization: By selecting their region or state, users can receive local helpline numbers and support services tailored to their location. Anonymity and Privacy: The interface ensures anonymity, which is critical for individuals who might be hesitant to seek help.\n",
    "\n",
    "7. User Interface Design and Features\n",
    "The user interface (UI) was developed using Flask (or Django) to ensure it is web-based, simple, and intuitive. Key features include:\n",
    "Geographic Selection: A map interface allows users to select their state or region to access local suicide helplines.\n",
    "Resource Links: Information on mental health resources, prevention strategies, and self-care techniques.\n",
    "Emergency Contact: A direct button to call or message the nearest suicide prevention helpline.\n",
    "\n",
    "8. Conclusion\n",
    "The analysis highlights the importance of targeted suicide prevention efforts, particularly in identified suicide hotspots. By using both spatial (geographic) and temporal analysis, we can pinpoint the areas most in need of intervention. Furthermore, integrating user-friendly interfaces that provide easy access to support resources is essential for timely help and prevention.\n",
    "\n",
    "9. Recommendations\n",
    "Increased Mental Health Awareness: Focus on public awareness campaigns to reduce stigma and promote mental health care.\n",
    "Strengthening Helplines and Support Systems: Ensure accessibility of suicide prevention helplines and mental health services, especially in rural and remote areas.\n",
    "Collaborating with Local Governments: Work with local authorities to address regional factors contributing to suicide hotspots.\n",
    "Targeted Interventions: Use the analysis to direct mental health services to specific communities, particularly in urban centers and high-risk age groups."
   ]
  },
  {
   "cell_type": "code",
   "execution_count": null,
   "id": "ccf77985-cf8b-429a-8378-3989ca48bf38",
   "metadata": {},
   "outputs": [],
   "source": []
  }
 ],
 "metadata": {
  "kernelspec": {
   "display_name": "Python 3 (ipykernel)",
   "language": "python",
   "name": "python3"
  },
  "language_info": {
   "codemirror_mode": {
    "name": "ipython",
    "version": 3
   },
   "file_extension": ".py",
   "mimetype": "text/x-python",
   "name": "python",
   "nbconvert_exporter": "python",
   "pygments_lexer": "ipython3",
   "version": "3.11.7"
  }
 },
 "nbformat": 4,
 "nbformat_minor": 5
}
